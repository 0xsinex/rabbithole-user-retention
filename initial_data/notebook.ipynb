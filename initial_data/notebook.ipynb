{
 "cells": [
  {
   "cell_type": "markdown",
   "id": "875db029",
   "metadata": {},
   "source": [
    "We received the data in 5 different csv files. After we had all of the data, we then started organizing \n",
    "and cleaning the data in the .csv files. We changed some field names to make joining the data together easier. After joining\n",
    "the data and doing some more cleaning we had one final complete dataframe with all of the data included. The data was joined \n",
    "according to the user addresses."
   ]
  },
  {
   "cell_type": "code",
   "execution_count": 1,
   "id": "6cc7af26",
   "metadata": {},
   "outputs": [
    {
     "data": {
      "text/html": [
       "<div>\n",
       "<style scoped>\n",
       "    .dataframe tbody tr th:only-of-type {\n",
       "        vertical-align: middle;\n",
       "    }\n",
       "\n",
       "    .dataframe tbody tr th {\n",
       "        vertical-align: top;\n",
       "    }\n",
       "\n",
       "    .dataframe thead th {\n",
       "        text-align: right;\n",
       "    }\n",
       "</style>\n",
       "<table border=\"1\" class=\"dataframe\">\n",
       "  <thead>\n",
       "    <tr style=\"text-align: right;\">\n",
       "      <th></th>\n",
       "      <th>NFT_class_bought</th>\n",
       "      <th>NFT_txs_bought</th>\n",
       "      <th>NFTclass_sold</th>\n",
       "      <th>NFT_txs_sold</th>\n",
       "      <th>weekly_txs mainnet</th>\n",
       "      <th>DEX_vol_class</th>\n",
       "      <th>DEX_transactions</th>\n",
       "      <th>ens</th>\n",
       "      <th>interacted</th>\n",
       "    </tr>\n",
       "  </thead>\n",
       "  <tbody>\n",
       "    <tr>\n",
       "      <th>0</th>\n",
       "      <td>10K+</td>\n",
       "      <td>229.0</td>\n",
       "      <td>10K+</td>\n",
       "      <td>296.0</td>\n",
       "      <td>34.833333</td>\n",
       "      <td>0</td>\n",
       "      <td>2.000000</td>\n",
       "      <td>1.0</td>\n",
       "      <td>0.0</td>\n",
       "    </tr>\n",
       "    <tr>\n",
       "      <th>1</th>\n",
       "      <td>10K+</td>\n",
       "      <td>497.0</td>\n",
       "      <td>10K+</td>\n",
       "      <td>413.0</td>\n",
       "      <td>95.384615</td>\n",
       "      <td>0</td>\n",
       "      <td>0.000000</td>\n",
       "      <td>1.0</td>\n",
       "      <td>1.0</td>\n",
       "    </tr>\n",
       "    <tr>\n",
       "      <th>2</th>\n",
       "      <td>10K+</td>\n",
       "      <td>269.0</td>\n",
       "      <td>10K+</td>\n",
       "      <td>482.0</td>\n",
       "      <td>45.538462</td>\n",
       "      <td>0</td>\n",
       "      <td>2.184211</td>\n",
       "      <td>1.0</td>\n",
       "      <td>1.0</td>\n",
       "    </tr>\n",
       "    <tr>\n",
       "      <th>3</th>\n",
       "      <td>10K+</td>\n",
       "      <td>132.0</td>\n",
       "      <td>10K+</td>\n",
       "      <td>84.0</td>\n",
       "      <td>16.500000</td>\n",
       "      <td>0</td>\n",
       "      <td>0.000000</td>\n",
       "      <td>1.0</td>\n",
       "      <td>0.0</td>\n",
       "    </tr>\n",
       "    <tr>\n",
       "      <th>4</th>\n",
       "      <td>10K+</td>\n",
       "      <td>31.0</td>\n",
       "      <td>10K+</td>\n",
       "      <td>16.0</td>\n",
       "      <td>9.307692</td>\n",
       "      <td>0</td>\n",
       "      <td>0.000000</td>\n",
       "      <td>0.0</td>\n",
       "      <td>0.0</td>\n",
       "    </tr>\n",
       "  </tbody>\n",
       "</table>\n",
       "</div>"
      ],
      "text/plain": [
       "  NFT_class_bought  NFT_txs_bought NFTclass_sold  NFT_txs_sold  \\\n",
       "0             10K+           229.0          10K+         296.0   \n",
       "1             10K+           497.0          10K+         413.0   \n",
       "2             10K+           269.0          10K+         482.0   \n",
       "3             10K+           132.0          10K+          84.0   \n",
       "4             10K+            31.0          10K+          16.0   \n",
       "\n",
       "   weekly_txs mainnet DEX_vol_class  DEX_transactions  ens  interacted  \n",
       "0           34.833333             0          2.000000  1.0         0.0  \n",
       "1           95.384615             0          0.000000  1.0         1.0  \n",
       "2           45.538462             0          2.184211  1.0         1.0  \n",
       "3           16.500000             0          0.000000  1.0         0.0  \n",
       "4            9.307692             0          0.000000  0.0         0.0  "
      ]
     },
     "execution_count": 1,
     "metadata": {},
     "output_type": "execute_result"
    }
   ],
   "source": [
    "import pandas as pd\n",
    "import numpy as np\n",
    "\n",
    "data1 = pd.read_csv(\"071a9bf4-29dc-4a10-96f4-1b995c88c20b.csv\") #interacted 1, vaja 0-id tekitada, DONE\n",
    "data2 = pd.read_csv(\"433d73df-1cae-47ee-88b1-6f585eb32adc.csv\") #weekly txs mainnet, nan -> 0, DONE\n",
    "data3 = pd.read_csv(\"4cdb4b81-5b24-4ddc-be7c-4c4678145f51.csv\") #DEX.TRADES_transactions txs, DONE\n",
    "data4 = pd.read_csv(\"7bc89bae-41bb-4a82-8e02-c6f3934dc353.csv\") #ENS, vaja ritta 0-id tekitada, DONE\n",
    "data5 = pd.read_csv(\"b7f4f21d-0288-4482-af84-1f807d37b384.csv\")\n",
    "\n",
    "df_m1 = pd.merge(data1,data2, on=\"address\",how=\"outer\")\n",
    "df_m2 = pd.merge(df_m1,data3, on=\"address\",how=\"outer\")\n",
    "df_m3 = pd.merge(df_m2,data4, on=\"address\",how=\"outer\")\n",
    "df = pd.merge(df_m3,data5, on=\"address\",how=\"outer\")\n",
    "              \n",
    "df = df.drop(columns=['address'], axis = 1)\n",
    "\n",
    "df[['NFT_class_bought','NFTclass_sold','DEX_vol_class']] = df[['NFT_class_bought','NFTclass_sold','DEX_vol_class']].fillna(value=\"0\")\n",
    "df.fillna(0,inplace=True)\n",
    "\n",
    "df_c = df.copy()\n",
    "df_c = df_c.drop(columns=['NFT_class_bought','NFTclass_sold','DEX_vol_class'],axis=1)\n",
    "\n",
    "df = df.drop(columns=[\"NFT_sum_bought\",\"NFT_sum_sold\",\"DEX_vol_traded\"], axis = 1)\n",
    "\n",
    "df.head()"
   ]
  },
  {
   "cell_type": "code",
   "execution_count": 2,
   "id": "4fcc1f45",
   "metadata": {},
   "outputs": [],
   "source": [
    "from sklearn.model_selection import train_test_split\n",
    "from sklearn.ensemble import RandomForestClassifier\n",
    "from imblearn.over_sampling import ADASYN\n",
    "from sklearn.metrics import classification_report, confusion_matrix\n",
    "from sklearn.metrics import accuracy_score, recall_score, precision_score\n",
    "from sklearn.model_selection import GridSearchCV"
   ]
  },
  {
   "cell_type": "code",
   "execution_count": 3,
   "id": "governmental-buffer",
   "metadata": {
    "scrolled": true
   },
   "outputs": [
    {
     "name": "stdout",
     "output_type": "stream",
     "text": [
      "Fitting 3 folds for each of 216 candidates, totalling 648 fits\n",
      "Best parms are:  {'bootstrap': True, 'max_depth': 80, 'max_features': 2, 'min_samples_leaf': 3, 'min_samples_split': 8, 'n_estimators': 300}\n"
     ]
    }
   ],
   "source": [
    "data_dum = pd.get_dummies(df)\n",
    "train, test = train_test_split(data_dum, test_size=0.3)\n",
    "\n",
    "X_train = train.drop(columns=['interacted'], axis=1) \n",
    "y_train = train[\"interacted\"] \n",
    "\n",
    "X_test = test.drop(columns=['interacted'], axis=1)\n",
    "y_test = test[\"interacted\"]\n",
    "\n",
    "#Resampling\n",
    "X_adasyn, y_adasyn = ADASYN().fit_resample(X_train, y_train) \n",
    "\n",
    "#Prediction model\n",
    "\n",
    "# Create the parameter grid based on the results of random search \n",
    "param_grid = {\n",
    "    'bootstrap': [True],\n",
    "    'max_depth': [80, 90, 100, 110],\n",
    "    'max_features': [2, 3],\n",
    "    'min_samples_leaf': [3, 4, 5],\n",
    "    'min_samples_split': [8, 10, 12],\n",
    "    'n_estimators': [100, 200, 300]\n",
    "}\n",
    "\n",
    "# Create a based model\n",
    "rf = RandomForestClassifier()\n",
    "# Instantiate the grid search model\n",
    "grid_search = GridSearchCV(estimator = rf, param_grid = param_grid, \n",
    "                          cv = 3, n_jobs = -1, verbose = 2)\n",
    "# Fit the grid search to the data\n",
    "grid_search.fit(X_train, y_train)\n",
    "print(\"Best parms are: \",grid_search.best_params_)\n",
    "\n",
    "best = grid_search.best_params_\n",
    "\n",
    "#try hyper-parameter tuning\n",
    "rf_adasyn = RandomForestClassifier(n_estimators = best[\"n_estimators\"],max_depth = best[\"max_depth\"], min_samples_leaf = best[\"min_samples_leaf\"], min_samples_split = best[\"min_samples_split\"], max_features = best[\"max_features\"]).fit(X_adasyn,y_adasyn) \n",
    "\n",
    "probs_adasyn = rf_adasyn.predict(X_test)"
   ]
  },
  {
   "cell_type": "code",
   "execution_count": 4,
   "id": "77116926",
   "metadata": {},
   "outputs": [
    {
     "name": "stdout",
     "output_type": "stream",
     "text": [
      "Accuracy score: 0.7897838899803536\n",
      "Recall score: 0.32786885245901637\n",
      "Precision score:0.23255813953488372\n",
      "With confusion matrix: \n",
      "[[382  66]\n",
      " [ 41  20]]\n"
     ]
    }
   ],
   "source": [
    "print(\"Accuracy score: \"+str(accuracy_score(y_test,probs_adasyn)))\n",
    "print(\"Recall score: \"+str(recall_score(y_test,probs_adasyn)))\n",
    "print(\"Precision score:\"+str(precision_score(y_test,probs_adasyn)))\n",
    "print(\"With confusion matrix: \\n\"+str(confusion_matrix(y_test,probs_adasyn)))"
   ]
  },
  {
   "cell_type": "code",
   "execution_count": 5,
   "id": "90e7dcc2",
   "metadata": {},
   "outputs": [
    {
     "data": {
      "text/plain": [
       "{'0': 1075, '10K+': 70, '2.5K-10K': 88, '500-2.5K': 111, '>500': 351}"
      ]
     },
     "execution_count": 5,
     "metadata": {},
     "output_type": "execute_result"
    }
   ],
   "source": [
    "unique, counts = np.unique(df.NFT_class_bought, return_counts=True)\n",
    "dict(zip(unique, counts))"
   ]
  },
  {
   "cell_type": "code",
   "execution_count": 8,
   "id": "joint-enemy",
   "metadata": {
    "scrolled": true
   },
   "outputs": [
    {
     "data": {
      "text/plain": [
       "interacted            1.000000\n",
       "NFT_txs_bought        0.081826\n",
       "NFT_sum_sold          0.071536\n",
       "NFT_sum_bought        0.056269\n",
       "NFT_txs_sold          0.052377\n",
       "weekly_txs mainnet    0.050770\n",
       "DEX_transactions      0.025351\n",
       "DEX_vol_traded       -0.003114\n",
       "ens                  -0.068585\n",
       "Name: interacted, dtype: float64"
      ]
     },
     "execution_count": 8,
     "metadata": {},
     "output_type": "execute_result"
    }
   ],
   "source": [
    "#try correlations\n",
    "df_corr = df_c.corr()\n",
    "df_corr[\"interacted\"].sort_values(ascending = False)"
   ]
  },
  {
   "cell_type": "code",
   "execution_count": 29,
   "id": "8ced379c",
   "metadata": {},
   "outputs": [
    {
     "data": {
      "text/plain": [
       "NFT_sum_bought         7103.943511\n",
       "NFT_txs_bought            7.099502\n",
       "NFT_sum_sold          16393.723556\n",
       "NFT_txs_sold              7.104478\n",
       "weekly_txs mainnet        4.803182\n",
       "DEX_vol_traded          285.334669\n",
       "DEX_transactions          0.154782\n",
       "ens                       0.552239\n",
       "interacted                1.000000\n",
       "dtype: float64"
      ]
     },
     "execution_count": 29,
     "metadata": {},
     "output_type": "execute_result"
    }
   ],
   "source": [
    "df_c[df_c[\"interacted\"] == 1].mean()"
   ]
  },
  {
   "cell_type": "code",
   "execution_count": 30,
   "id": "85f574dc",
   "metadata": {
    "scrolled": true
   },
   "outputs": [
    {
     "data": {
      "text/plain": [
       "NFT_sum_bought        0.0\n",
       "NFT_txs_bought        0.0\n",
       "NFT_sum_sold          0.0\n",
       "NFT_txs_sold          0.0\n",
       "weekly_txs mainnet    3.0\n",
       "DEX_vol_traded        0.0\n",
       "DEX_transactions      0.0\n",
       "ens                   1.0\n",
       "interacted            1.0\n",
       "dtype: float64"
      ]
     },
     "execution_count": 30,
     "metadata": {},
     "output_type": "execute_result"
    }
   ],
   "source": [
    "df_c[df_c[\"interacted\"] == 1].median()"
   ]
  },
  {
   "cell_type": "code",
   "execution_count": null,
   "id": "8502b823",
   "metadata": {},
   "outputs": [],
   "source": []
  }
 ],
 "metadata": {
  "kernelspec": {
   "display_name": "Python 3 (ipykernel)",
   "language": "python",
   "name": "python3"
  },
  "language_info": {
   "codemirror_mode": {
    "name": "ipython",
    "version": 3
   },
   "file_extension": ".py",
   "mimetype": "text/x-python",
   "name": "python",
   "nbconvert_exporter": "python",
   "pygments_lexer": "ipython3",
   "version": "3.8.8"
  }
 },
 "nbformat": 4,
 "nbformat_minor": 5
}
