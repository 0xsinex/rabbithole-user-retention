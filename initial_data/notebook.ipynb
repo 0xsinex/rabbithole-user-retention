{
 "cells": [
  {
   "cell_type": "code",
   "execution_count": 1,
   "id": "6cc7af26",
   "metadata": {},
   "outputs": [],
   "source": [
    "import pandas as pd\n",
    "import numpy as np\n",
    "\n",
    "data1 = pd.read_csv(\"071a9bf4-29dc-4a10-96f4-1b995c88c20b.csv\") #interacted 1, vaja 0-id tekitada, DONE\n",
    "data2 = pd.read_csv(\"433d73df-1cae-47ee-88b1-6f585eb32adc.csv\") #weekly txs mainnet, nan -> 0, DONE\n",
    "data3 = pd.read_csv(\"4cdb4b81-5b24-4ddc-be7c-4c4678145f51.csv\") #DEX.TRADES_transactions txs, DONE\n",
    "data4 = pd.read_csv(\"7bc89bae-41bb-4a82-8e02-c6f3934dc353.csv\") #ENS, vaja ritta 0-id tekitada, DONE\n",
    "data5 = pd.read_csv(\"b7f4f21d-0288-4482-af84-1f807d37b384.csv\")\n",
    "\n",
    "df = pd.concat([data1,data2,data3,data4,data5])\n",
    "df.fillna(0,inplace=True)\n",
    "df = df.drop(columns=['address'], axis = 1)"
   ]
  },
  {
   "cell_type": "code",
   "execution_count": 13,
   "id": "4fcc1f45",
   "metadata": {},
   "outputs": [
    {
     "data": {
      "text/plain": [
       "array([[1363,    0],\n",
       "       [   0,   54]], dtype=int64)"
      ]
     },
     "execution_count": 13,
     "metadata": {},
     "output_type": "execute_result"
    }
   ],
   "source": [
    "from sklearn.model_selection import train_test_split\n",
    "from sklearn.ensemble import RandomForestClassifier\n",
    "from sklearn.metrics import confusion_matrix\n",
    "\n",
    "data_dum = pd.get_dummies(df)\n",
    "\n",
    "train, test = train_test_split(data_dum, test_size=0.3)\n",
    "\n",
    "X_train = train.drop(columns=['interacted'], axis=1) \n",
    "y_train = train[\"interacted\"] \n",
    "\n",
    "X_test = test.drop(columns=['interacted'], axis=1)\n",
    "y_test = test[\"interacted\"]\n",
    "\n",
    "rf = RandomForestClassifier(n_estimators = 50,max_depth = 5,random_state = 3).fit(X_train,y_train) \n",
    "\n",
    "probs = rf.predict(X_test)\n",
    "\n",
    "confusion_matrix(y_test,probs)"
   ]
  },
  {
   "cell_type": "code",
   "execution_count": null,
   "id": "90e7dcc2",
   "metadata": {},
   "outputs": [],
   "source": []
  }
 ],
 "metadata": {
  "kernelspec": {
   "display_name": "Python 3 (ipykernel)",
   "language": "python",
   "name": "python3"
  },
  "language_info": {
   "codemirror_mode": {
    "name": "ipython",
    "version": 3
   },
   "file_extension": ".py",
   "mimetype": "text/x-python",
   "name": "python",
   "nbconvert_exporter": "python",
   "pygments_lexer": "ipython3",
   "version": "3.8.8"
  }
 },
 "nbformat": 4,
 "nbformat_minor": 5
}
